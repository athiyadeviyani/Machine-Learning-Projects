{
  "nbformat": 4,
  "nbformat_minor": 0,
  "metadata": {
    "colab": {
      "name": "FastTextSemanticSimilarity.ipynb",
      "provenance": [],
      "collapsed_sections": []
    },
    "kernelspec": {
      "name": "python3",
      "display_name": "Python 3"
    }
  },
  "cells": [
    {
      "cell_type": "markdown",
      "metadata": {
        "id": "6Inhlb_gOavV"
      },
      "source": [
        "# FastText for Semantic Similarity\n",
        "\n",
        "---\n",
        "Source: https://stackabuse.com/python-for-nlp-working-with-facebook-fasttext-library/\n",
        "\n",
        "\n",
        "\n"
      ]
    },
    {
      "cell_type": "code",
      "metadata": {
        "id": "XPRyswlEXXla",
        "outputId": "0b9c66fa-4a12-40a9-834d-3726b79ed51c",
        "colab": {
          "base_uri": "https://localhost:8080/",
          "height": 292
        }
      },
      "source": [
        "!pip install wikipedia"
      ],
      "execution_count": 1,
      "outputs": [
        {
          "output_type": "stream",
          "text": [
            "Collecting wikipedia\n",
            "  Downloading https://files.pythonhosted.org/packages/67/35/25e68fbc99e672127cc6fbb14b8ec1ba3dfef035bf1e4c90f78f24a80b7d/wikipedia-1.4.0.tar.gz\n",
            "Requirement already satisfied: beautifulsoup4 in /usr/local/lib/python3.6/dist-packages (from wikipedia) (4.6.3)\n",
            "Requirement already satisfied: requests<3.0.0,>=2.0.0 in /usr/local/lib/python3.6/dist-packages (from wikipedia) (2.23.0)\n",
            "Requirement already satisfied: idna<3,>=2.5 in /usr/local/lib/python3.6/dist-packages (from requests<3.0.0,>=2.0.0->wikipedia) (2.10)\n",
            "Requirement already satisfied: chardet<4,>=3.0.2 in /usr/local/lib/python3.6/dist-packages (from requests<3.0.0,>=2.0.0->wikipedia) (3.0.4)\n",
            "Requirement already satisfied: urllib3!=1.25.0,!=1.25.1,<1.26,>=1.21.1 in /usr/local/lib/python3.6/dist-packages (from requests<3.0.0,>=2.0.0->wikipedia) (1.24.3)\n",
            "Requirement already satisfied: certifi>=2017.4.17 in /usr/local/lib/python3.6/dist-packages (from requests<3.0.0,>=2.0.0->wikipedia) (2020.6.20)\n",
            "Building wheels for collected packages: wikipedia\n",
            "  Building wheel for wikipedia (setup.py) ... \u001b[?25l\u001b[?25hdone\n",
            "  Created wheel for wikipedia: filename=wikipedia-1.4.0-cp36-none-any.whl size=11686 sha256=0695273e8e6906ddb9d44444203fb2ba633b5ec314e584f89b54ca06b061a1b9\n",
            "  Stored in directory: /root/.cache/pip/wheels/87/2a/18/4e471fd96d12114d16fe4a446d00c3b38fb9efcb744bd31f4a\n",
            "Successfully built wikipedia\n",
            "Installing collected packages: wikipedia\n",
            "Successfully installed wikipedia-1.4.0\n"
          ],
          "name": "stdout"
        }
      ]
    },
    {
      "cell_type": "code",
      "metadata": {
        "id": "2lxq0HY5XY4T",
        "outputId": "992f2df1-bc40-4d1e-ee91-e5198fe2ed89",
        "colab": {
          "base_uri": "https://localhost:8080/",
          "height": 119
        }
      },
      "source": [
        "from keras.preprocessing.text import Tokenizer\n",
        "from gensim.models.fasttext import FastText\n",
        "import numpy as np\n",
        "import matplotlib.pyplot as plt\n",
        "import nltk\n",
        "from string import punctuation\n",
        "from nltk.corpus import stopwords\n",
        "from nltk.tokenize import word_tokenize\n",
        "from nltk.stem import WordNetLemmatizer\n",
        "from nltk.tokenize import sent_tokenize\n",
        "from nltk import WordPunctTokenizer\n",
        "\n",
        "import wikipedia\n",
        "import nltk\n",
        "nltk.download('punkt')\n",
        "nltk.download('wordnet')\n",
        "nltk.download('stopwords')\n",
        "en_stop = set(nltk.corpus.stopwords.words('english'))\n",
        "\n",
        "%matplotlib inline"
      ],
      "execution_count": 2,
      "outputs": [
        {
          "output_type": "stream",
          "text": [
            "[nltk_data] Downloading package punkt to /root/nltk_data...\n",
            "[nltk_data]   Unzipping tokenizers/punkt.zip.\n",
            "[nltk_data] Downloading package wordnet to /root/nltk_data...\n",
            "[nltk_data]   Unzipping corpora/wordnet.zip.\n",
            "[nltk_data] Downloading package stopwords to /root/nltk_data...\n",
            "[nltk_data]   Unzipping corpora/stopwords.zip.\n"
          ],
          "name": "stdout"
        }
      ]
    },
    {
      "cell_type": "code",
      "metadata": {
        "id": "TQFn4nw3aK5Z"
      },
      "source": [
        "import re\n",
        "from nltk.stem import WordNetLemmatizer"
      ],
      "execution_count": 8,
      "outputs": []
    },
    {
      "cell_type": "code",
      "metadata": {
        "id": "LQzLFjJOfyDb"
      },
      "source": [
        "from sklearn.decomposition import PCA"
      ],
      "execution_count": 20,
      "outputs": []
    },
    {
      "cell_type": "markdown",
      "metadata": {
        "id": "ZCPY08wwXuPf"
      },
      "source": [
        "## Scraping Wikipedia Articles"
      ]
    },
    {
      "cell_type": "code",
      "metadata": {
        "id": "QnvuBbhiYE-7"
      },
      "source": [
        "artificial_intelligence = wikipedia.page(\"Artificial Intelligence\").content\n",
        "machine_learning = wikipedia.page(\"Machine Learning\").content\n",
        "deep_learning = wikipedia.page(\"Deep Learning\").content\n",
        "neural_network = wikipedia.page(\"Neural Network\").content"
      ],
      "execution_count": 5,
      "outputs": []
    },
    {
      "cell_type": "code",
      "metadata": {
        "id": "QAOGb6tyYIz2"
      },
      "source": [
        "artificial_intelligence = sent_tokenize(artificial_intelligence)\n",
        "machine_learning = sent_tokenize(machine_learning)\n",
        "deep_learning = sent_tokenize(deep_learning)\n",
        "neural_network = sent_tokenize(neural_network)"
      ],
      "execution_count": 6,
      "outputs": []
    },
    {
      "cell_type": "code",
      "metadata": {
        "id": "hNUHUWkJYO8P"
      },
      "source": [
        "artificial_intelligence.extend(machine_learning)\n",
        "artificial_intelligence.extend(deep_learning)\n",
        "artificial_intelligence.extend(neural_network)"
      ],
      "execution_count": 7,
      "outputs": []
    },
    {
      "cell_type": "markdown",
      "metadata": {
        "id": "wofSJTXaaGTK"
      },
      "source": [
        "## Data Preprocessing"
      ]
    },
    {
      "cell_type": "code",
      "metadata": {
        "id": "pmVQdRc9acMi"
      },
      "source": [
        "stemmer = WordNetLemmatizer()"
      ],
      "execution_count": 9,
      "outputs": []
    },
    {
      "cell_type": "code",
      "metadata": {
        "id": "zkeyJpNWaeDY"
      },
      "source": [
        "def preprocess_text(document):\n",
        "\n",
        "  # Remove all the special characters\n",
        "  document = re.sub(r'\\W', ' ', str(document))\n",
        "\n",
        "  # Remove all single characters \n",
        "  document = re.sub(r'\\s+[a-zA-Z]\\s+', ' ', document)\n",
        "\n",
        "  # Remove single characters from the start\n",
        "  document = re.sub(r'\\^[a-zA-Z]\\s+', ' ', document)\n",
        "\n",
        "  # Substituting multiple spaces with single space\n",
        "  document = re.sub(r'\\s+', ' ', document, flags=re.I)\n",
        "\n",
        "  # Removing prefixed 'b'\n",
        "  document = re.sub(r'^b\\s+', '', document)\n",
        "\n",
        "  # Converting to Lowercase\n",
        "  document = document.lower()  \n",
        "\n",
        "  # Lemmatixation\n",
        "  tokens = document.split()\n",
        "  tokens = [stemmer.lemmatize(word) for word in tokens]\n",
        "  tokens = [word for word in tokens if word not in en_stop]\n",
        "  tokens = [word for word in tokens if len(word) > 3]\n",
        "\n",
        "  preprocessed_text = ' '.join(tokens)\n",
        "\n",
        "  return preprocessed_text"
      ],
      "execution_count": 10,
      "outputs": []
    },
    {
      "cell_type": "markdown",
      "metadata": {
        "id": "A7f1bHfPdCrk"
      },
      "source": [
        "Test `preprocess_text()`."
      ]
    },
    {
      "cell_type": "code",
      "metadata": {
        "id": "p1FjDwx3cdKj",
        "outputId": "44fd3f23-15d3-40a1-c9f2-41b94412fffc",
        "colab": {
          "base_uri": "https://localhost:8080/",
          "height": 35
        }
      },
      "source": [
        "preprocess_text(\"Artificial intelligence, is the most advanced technology of the present era\")"
      ],
      "execution_count": 11,
      "outputs": [
        {
          "output_type": "execute_result",
          "data": {
            "application/vnd.google.colaboratory.intrinsic+json": {
              "type": "string"
            },
            "text/plain": [
              "'artificial intelligence advanced technology present'"
            ]
          },
          "metadata": {
            "tags": []
          },
          "execution_count": 11
        }
      ]
    },
    {
      "cell_type": "markdown",
      "metadata": {
        "id": "3CBJcUohdS6B"
      },
      "source": [
        "Preprocess the corpus."
      ]
    },
    {
      "cell_type": "code",
      "metadata": {
        "id": "8PFOlbSrdCAL"
      },
      "source": [
        "final_corpus = [preprocess_text(sentence) for sentence in artificial_intelligence if sentence.strip() !='']"
      ],
      "execution_count": 12,
      "outputs": []
    },
    {
      "cell_type": "code",
      "metadata": {
        "id": "gdG9VRWqdUWG"
      },
      "source": [
        "word_punctuation_tokenizer = nltk.WordPunctTokenizer()\n",
        "word_tokenized_corpus = [word_punctuation_tokenizer.tokenize(sent) for sent in final_corpus]"
      ],
      "execution_count": 13,
      "outputs": []
    },
    {
      "cell_type": "markdown",
      "metadata": {
        "id": "qEWeQHDNdtsc"
      },
      "source": [
        "## Creating Words Representations"
      ]
    },
    {
      "cell_type": "code",
      "metadata": {
        "id": "HZIhh_A8dvdT"
      },
      "source": [
        "embedding_size = 60\n",
        "window_size = 40\n",
        "min_word = 5\n",
        "down_sampling = 1e-2"
      ],
      "execution_count": 14,
      "outputs": []
    },
    {
      "cell_type": "code",
      "metadata": {
        "id": "cs_jnMyBd8Y8",
        "outputId": "9ff6cdec-8ff4-4f5b-dd8f-30639c42b917",
        "colab": {
          "base_uri": "https://localhost:8080/",
          "height": 51
        }
      },
      "source": [
        "%%time\n",
        "ft_model = FastText(word_tokenized_corpus,\n",
        "                      size=embedding_size,\n",
        "                      window=window_size,\n",
        "                      min_count=min_word,\n",
        "                      sample=down_sampling,\n",
        "                      sg=1,\n",
        "                      iter=100)"
      ],
      "execution_count": 15,
      "outputs": [
        {
          "output_type": "stream",
          "text": [
            "CPU times: user 1min 11s, sys: 398 ms, total: 1min 12s\n",
            "Wall time: 42.6 s\n"
          ],
          "name": "stdout"
        }
      ]
    },
    {
      "cell_type": "code",
      "metadata": {
        "id": "xkkzuZTieJXY",
        "outputId": "af52907a-d4aa-4365-fc6d-52763f5b443d",
        "colab": {
          "base_uri": "https://localhost:8080/",
          "height": 187
        }
      },
      "source": [
        "print(ft_model.wv['artificial'])"
      ],
      "execution_count": 16,
      "outputs": [
        {
          "output_type": "stream",
          "text": [
            "[ 0.0648608  -0.20198336  0.13891436 -0.43494534  0.23629501  0.15111549\n",
            "  0.36350447  0.22646692 -0.3048838   0.1965787  -0.05902217  0.22095898\n",
            " -0.17757964  0.1845231  -0.5299569   0.2783807   0.06420473  0.41921857\n",
            "  0.5321626  -0.20385614 -0.07206804 -0.00452363  0.6835261  -0.28523377\n",
            " -0.1518255   0.02410667  0.01042893  0.38495412 -0.13197008 -0.15187761\n",
            " -0.35452026  0.16849008  0.20997313 -0.22011125 -0.48085442 -0.05621335\n",
            " -0.16114558 -0.51242447 -0.29789022  0.19448434  0.07852622 -0.19779868\n",
            " -0.25376788  0.37101078  0.19137031  0.17175578  0.0302557   0.03785436\n",
            "  0.12177157  0.27177048  0.1175411   0.24238567  0.5810165  -0.68792206\n",
            "  0.07098364 -0.22322093  0.705148    0.01532176  0.43347257 -0.1370754 ]\n"
          ],
          "name": "stdout"
        }
      ]
    },
    {
      "cell_type": "code",
      "metadata": {
        "id": "RAbo0GGNerUS",
        "outputId": "2ece6a7d-b3ff-4b54-aea2-77e5d73770b3",
        "colab": {
          "base_uri": "https://localhost:8080/",
          "height": 173
        }
      },
      "source": [
        "semantically_similar_words = {words: [\n",
        "  item[0] for item in ft_model.wv.most_similar([words], topn=5)]\n",
        "  for words in [\n",
        "                'artificial', 'intelligence', 'machine', \n",
        "                'network', 'recurrent', 'deep']\n",
        "  }\n",
        "\n",
        "for k,v in semantically_similar_words.items():\n",
        "    print(k+\":\"+str(v))"
      ],
      "execution_count": 18,
      "outputs": [
        {
          "output_type": "stream",
          "text": [
            "artificial:['intelligence', 'simulate', 'simulated', 'simulation', 'neuron']\n",
            "intelligence:['artificial', 'simulate', 'intelligent', 'moravec', 'simulation']\n",
            "machine:['learning', 'ethic', 'source', 'intelligence', 'computer']\n",
            "network:['neural', 'biological', 'recurrent', 'convolutional', 'belief']\n",
            "recurrent:['neural', 'network', 'feedforward', 'published', 'convolutional']\n",
            "deep:['convolutional', 'specifically', 'learning', 'speech', 'generative']\n"
          ],
          "name": "stdout"
        },
        {
          "output_type": "stream",
          "text": [
            "/usr/local/lib/python3.6/dist-packages/gensim/matutils.py:737: FutureWarning: Conversion of the second argument of issubdtype from `int` to `np.signedinteger` is deprecated. In future, it will be treated as `np.int64 == np.dtype(int).type`.\n",
            "  if np.issubdtype(vec.dtype, np.int):\n"
          ],
          "name": "stderr"
        }
      ]
    },
    {
      "cell_type": "code",
      "metadata": {
        "id": "6Qt3EWZffFh-",
        "outputId": "b7426113-4c22-4150-c62a-d5fbfe8570ad",
        "colab": {
          "base_uri": "https://localhost:8080/",
          "height": 88
        }
      },
      "source": [
        "print(ft_model.wv.similarity(w1='artificial', w2='intelligence'))"
      ],
      "execution_count": 19,
      "outputs": [
        {
          "output_type": "stream",
          "text": [
            "0.7803097\n"
          ],
          "name": "stdout"
        },
        {
          "output_type": "stream",
          "text": [
            "/usr/local/lib/python3.6/dist-packages/gensim/matutils.py:737: FutureWarning: Conversion of the second argument of issubdtype from `int` to `np.signedinteger` is deprecated. In future, it will be treated as `np.int64 == np.dtype(int).type`.\n",
            "  if np.issubdtype(vec.dtype, np.int):\n"
          ],
          "name": "stderr"
        }
      ]
    },
    {
      "cell_type": "markdown",
      "metadata": {
        "id": "cTQUXnpefpDG"
      },
      "source": [
        "## Visualizing Word Similarities"
      ]
    },
    {
      "cell_type": "code",
      "metadata": {
        "id": "UtnyluZafre3",
        "outputId": "c4c53142-86ed-4e33-e56e-e9acf0e587f1",
        "colab": {
          "base_uri": "https://localhost:8080/",
          "height": 88
        }
      },
      "source": [
        "all_similar_words = sum([[k] + v for k, v in semantically_similar_words.items()], [])\n",
        "\n",
        "print(all_similar_words)\n",
        "print(type(all_similar_words))\n",
        "print(len(all_similar_words))"
      ],
      "execution_count": 21,
      "outputs": [
        {
          "output_type": "stream",
          "text": [
            "['artificial', 'intelligence', 'simulate', 'simulated', 'simulation', 'neuron', 'intelligence', 'artificial', 'simulate', 'intelligent', 'moravec', 'simulation', 'machine', 'learning', 'ethic', 'source', 'intelligence', 'computer', 'network', 'neural', 'biological', 'recurrent', 'convolutional', 'belief', 'recurrent', 'neural', 'network', 'feedforward', 'published', 'convolutional', 'deep', 'convolutional', 'specifically', 'learning', 'speech', 'generative']\n",
            "<class 'list'>\n",
            "36\n"
          ],
          "name": "stdout"
        }
      ]
    },
    {
      "cell_type": "code",
      "metadata": {
        "id": "A3cHUW5df0ix"
      },
      "source": [
        "word_vectors = ft_model.wv[all_similar_words]"
      ],
      "execution_count": 22,
      "outputs": []
    },
    {
      "cell_type": "code",
      "metadata": {
        "id": "ceafgIfzg6q6"
      },
      "source": [
        "pca = PCA(n_components=2)"
      ],
      "execution_count": 23,
      "outputs": []
    },
    {
      "cell_type": "code",
      "metadata": {
        "id": "YxgX5D3Vg8MN"
      },
      "source": [
        "p_comps = pca.fit_transform(word_vectors)\n",
        "word_names = all_similar_words"
      ],
      "execution_count": 24,
      "outputs": []
    },
    {
      "cell_type": "code",
      "metadata": {
        "id": "FEnRj8E7hBQz",
        "outputId": "5ee932e5-9bf1-4cbc-f80a-3e62cbfefc81",
        "colab": {
          "base_uri": "https://localhost:8080/",
          "height": 451
        }
      },
      "source": [
        "plt.figure(figsize=(18, 10))\n",
        "plt.scatter(p_comps[:, 0], p_comps[:, 1], c='red')\n",
        "\n",
        "for word_names, x, y in zip(word_names, p_comps[:, 0], p_comps[:, 1]):\n",
        "    plt.annotate(word_names, xy=(x+0.06, y+0.03), xytext=(0, 0), textcoords='offset points')"
      ],
      "execution_count": 27,
      "outputs": [
        {
          "output_type": "display_data",
          "data": {
            "image/png": "[encoded data removed]",
            "text/plain": [
              "<Figure size 1296x720 with 1 Axes>"
            ]
          },
          "metadata": {
            "tags": [],
            "needs_background": "light"
          }
        }
      ]
    },
    {
      "cell_type": "code",
      "metadata": {
        "id": "L66FD7H5hDzs"
      },
      "source": [
        ""
      ],
      "execution_count": null,
      "outputs": []
    }
  ]
}

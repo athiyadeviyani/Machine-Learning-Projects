{
  "nbformat": 4,
  "nbformat_minor": 0,
  "metadata": {
    "colab": {
      "name": "TFQuickstart.ipynb",
      "provenance": [],
      "collapsed_sections": []
    },
    "kernelspec": {
      "name": "python3",
      "display_name": "Python 3"
    }
  },
  "cells": [
    {
      "cell_type": "markdown",
      "metadata": {
        "id": "hmCFL3enzKnL",
        "colab_type": "text"
      },
      "source": [
        "# Quickstart for beginners"
      ]
    },
    {
      "cell_type": "markdown",
      "metadata": {
        "id": "2bUErscExkv5",
        "colab_type": "text"
      },
      "source": [
        "Import Tensorflow."
      ]
    },
    {
      "cell_type": "code",
      "metadata": {
        "id": "xjI3tstmvtyl",
        "colab_type": "code",
        "colab": {}
      },
      "source": [
        "import tensorflow as tf"
      ],
      "execution_count": 1,
      "outputs": []
    },
    {
      "cell_type": "markdown",
      "metadata": {
        "id": "6unbgO2Nv2ci",
        "colab_type": "text"
      },
      "source": [
        "Load and prepare the MNIST dataset. Convert the samples from integers to floating-point numbers."
      ]
    },
    {
      "cell_type": "code",
      "metadata": {
        "id": "_BHFhTjyv6L3",
        "colab_type": "code",
        "colab": {
          "base_uri": "https://localhost:8080/",
          "height": 51
        },
        "outputId": "45ca769e-2c23-48dc-d8bd-6126b2158625"
      },
      "source": [
        "mnist = tf.keras.datasets.mnist\n",
        "\n",
        "(x_train, y_train), (x_test, y_test) = mnist.load_data()\n",
        "x_train, x_test = x_train / 255.0, x_test / 255.0"
      ],
      "execution_count": 2,
      "outputs": [
        {
          "output_type": "stream",
          "text": [
            "Downloading data from https://storage.googleapis.com/tensorflow/tf-keras-datasets/mnist.npz\n",
            "11493376/11490434 [==============================] - 0s 0us/step\n"
          ],
          "name": "stdout"
        }
      ]
    },
    {
      "cell_type": "markdown",
      "metadata": {
        "id": "BabN8FpswFck",
        "colab_type": "text"
      },
      "source": [
        "Build the ```tf.keras.Sequential``` model by stacking layers. Choose an optimizer and loss function for training."
      ]
    },
    {
      "cell_type": "code",
      "metadata": {
        "id": "_6zto580wMJ5",
        "colab_type": "code",
        "colab": {}
      },
      "source": [
        "model = tf.keras.models.Sequential([\n",
        "  tf.keras.layers.Flatten(input_shape=(28, 28)),\n",
        "  tf.keras.layers.Dense(128, activation='relu'),\n",
        "  tf.keras.layers.Dropout(0.2),\n",
        "  tf.keras.layers.Dense(10)\n",
        "])"
      ],
      "execution_count": 3,
      "outputs": []
    },
    {
      "cell_type": "markdown",
      "metadata": {
        "id": "DPbOXamcwjOa",
        "colab_type": "text"
      },
      "source": [
        "For each example the model returns a vector of 'logits' or 'log-odds' scores, one for each class."
      ]
    },
    {
      "cell_type": "code",
      "metadata": {
        "id": "Sx_gxUBBwdhn",
        "colab_type": "code",
        "colab": {
          "base_uri": "https://localhost:8080/",
          "height": 68
        },
        "outputId": "096bec2d-223d-4158-d957-17f8ee651c40"
      },
      "source": [
        "predictions = model(x_train[:1]).numpy()\n",
        "predictions"
      ],
      "execution_count": 5,
      "outputs": [
        {
          "output_type": "execute_result",
          "data": {
            "text/plain": [
              "array([[-0.8947428 , -0.04675238,  0.23789485, -0.22301272,  0.27142102,\n",
              "        -0.10838422,  0.22652109, -0.62980294,  0.2963757 ,  0.36151463]],\n",
              "      dtype=float32)"
            ]
          },
          "metadata": {
            "tags": []
          },
          "execution_count": 5
        }
      ]
    },
    {
      "cell_type": "markdown",
      "metadata": {
        "id": "vnCw5CCMwtSb",
        "colab_type": "text"
      },
      "source": [
        "The `tf.nn.softmax` function converts these logits to 'probabilities' for each class.\n",
        "\n",
        "Note: it is possible to bake this `tf.nn.softmax` in as the activation function for the last layer of the network. While this can make the model output more directly interpretable, this approach is discouraged as it's impossible to provide an exact and numerically stable loss calculation for all models when using a softmax output."
      ]
    },
    {
      "cell_type": "code",
      "metadata": {
        "id": "UVe_ojOAwgOO",
        "colab_type": "code",
        "colab": {
          "base_uri": "https://localhost:8080/",
          "height": 68
        },
        "outputId": "47d6e9bb-1a0c-484b-e6d6-f9146cd326cf"
      },
      "source": [
        "tf.nn.softmax(predictions).numpy()"
      ],
      "execution_count": 6,
      "outputs": [
        {
          "output_type": "execute_result",
          "data": {
            "text/plain": [
              "array([[0.04003756, 0.09348571, 0.1242699 , 0.07837839, 0.12850682,\n",
              "        0.08789797, 0.12286448, 0.05218307, 0.13175401, 0.14062202]],\n",
              "      dtype=float32)"
            ]
          },
          "metadata": {
            "tags": []
          },
          "execution_count": 6
        }
      ]
    },
    {
      "cell_type": "markdown",
      "metadata": {
        "id": "C-oCFobnxUsG",
        "colab_type": "text"
      },
      "source": [
        "The `losses.SparseCategoricalCrossentropy` loss takes a vector of logits and a True index and returns a scalar loss for each example."
      ]
    },
    {
      "cell_type": "code",
      "metadata": {
        "id": "OkV8Gjwww2eS",
        "colab_type": "code",
        "colab": {}
      },
      "source": [
        "loss_fn = tf.keras.losses.SparseCategoricalCrossentropy(from_logits=True)"
      ],
      "execution_count": 7,
      "outputs": []
    },
    {
      "cell_type": "markdown",
      "metadata": {
        "id": "KgQkcGfAxeY8",
        "colab_type": "text"
      },
      "source": [
        "This loss is equal to the negative log probability of the true class: it is zero if the model is sure of the correct class.\n",
        "\n",
        "This untrained model gives probabilities close to random (1/10 for each class), so the initial loss should be close to `-tf.log(1/10) ~= 2.3`"
      ]
    },
    {
      "cell_type": "code",
      "metadata": {
        "id": "2HAM_mq3x5MY",
        "colab_type": "code",
        "colab": {
          "base_uri": "https://localhost:8080/",
          "height": 34
        },
        "outputId": "b0f5d267-a1ef-48b8-f5ba-33f5f4d13221"
      },
      "source": [
        "loss_fn(y_train[0], predictions).numpy()"
      ],
      "execution_count": 9,
      "outputs": [
        {
          "output_type": "execute_result",
          "data": {
            "text/plain": [
              "2.4315786"
            ]
          },
          "metadata": {
            "tags": []
          },
          "execution_count": 9
        }
      ]
    },
    {
      "cell_type": "code",
      "metadata": {
        "id": "erNpowWsx8vP",
        "colab_type": "code",
        "colab": {}
      },
      "source": [
        "model.compile(optimizer='adam',\n",
        "              loss=loss_fn,\n",
        "              metrics=['accuracy'])"
      ],
      "execution_count": 10,
      "outputs": []
    },
    {
      "cell_type": "markdown",
      "metadata": {
        "id": "4jvLGgD5yIsP",
        "colab_type": "text"
      },
      "source": [
        "The `Model.fit` method adjusts the model parameters to minimize the loss."
      ]
    },
    {
      "cell_type": "code",
      "metadata": {
        "id": "DUlEscYayFYT",
        "colab_type": "code",
        "colab": {
          "base_uri": "https://localhost:8080/",
          "height": 204
        },
        "outputId": "e5185907-2fbd-4c31-a9bc-a9cc4d00d9db"
      },
      "source": [
        "model.fit(x_train, y_train, epochs=5)"
      ],
      "execution_count": 12,
      "outputs": [
        {
          "output_type": "stream",
          "text": [
            "Epoch 1/5\n",
            "1875/1875 [==============================] - 3s 2ms/step - loss: 0.3016 - accuracy: 0.9125\n",
            "Epoch 2/5\n",
            "1875/1875 [==============================] - 3s 2ms/step - loss: 0.1458 - accuracy: 0.9565\n",
            "Epoch 3/5\n",
            "1875/1875 [==============================] - 3s 2ms/step - loss: 0.1082 - accuracy: 0.9666\n",
            "Epoch 4/5\n",
            "1875/1875 [==============================] - 3s 2ms/step - loss: 0.0875 - accuracy: 0.9732\n",
            "Epoch 5/5\n",
            "1875/1875 [==============================] - 3s 2ms/step - loss: 0.0767 - accuracy: 0.9761\n"
          ],
          "name": "stdout"
        },
        {
          "output_type": "execute_result",
          "data": {
            "text/plain": [
              "<tensorflow.python.keras.callbacks.History at 0x7f3662f52ba8>"
            ]
          },
          "metadata": {
            "tags": []
          },
          "execution_count": 12
        }
      ]
    },
    {
      "cell_type": "markdown",
      "metadata": {
        "id": "iUh_dynSyiOL",
        "colab_type": "text"
      },
      "source": [
        "The `Model.evaluate` method checks the models performance, usually on a 'validation-set' or 'test-set'."
      ]
    },
    {
      "cell_type": "code",
      "metadata": {
        "id": "TuOHwzbFygOh",
        "colab_type": "code",
        "colab": {
          "base_uri": "https://localhost:8080/",
          "height": 51
        },
        "outputId": "0a43b46b-c009-4f47-e292-bcc122e02f28"
      },
      "source": [
        "model.evaluate(x_test, y_test, verbose=2)"
      ],
      "execution_count": 14,
      "outputs": [
        {
          "output_type": "stream",
          "text": [
            "313/313 - 0s - loss: 0.0752 - accuracy: 0.9769\n"
          ],
          "name": "stdout"
        },
        {
          "output_type": "execute_result",
          "data": {
            "text/plain": [
              "[0.07522686570882797, 0.9768999814987183]"
            ]
          },
          "metadata": {
            "tags": []
          },
          "execution_count": 14
        }
      ]
    },
    {
      "cell_type": "markdown",
      "metadata": {
        "id": "Y1AbBpMnynna",
        "colab_type": "text"
      },
      "source": [
        "The image classifier is now trained to ~98% accuracy on this dataset.\n",
        "\n",
        "If you want your model to return a probability, you can wrap the trained model, and attach the softmax to it."
      ]
    },
    {
      "cell_type": "code",
      "metadata": {
        "id": "k6hDFKSWymXC",
        "colab_type": "code",
        "colab": {}
      },
      "source": [
        "probability_model = tf.keras.Sequential([\n",
        "                                         model,\n",
        "                                         tf.keras.layers.Softmax()\n",
        "])"
      ],
      "execution_count": 15,
      "outputs": []
    },
    {
      "cell_type": "code",
      "metadata": {
        "id": "joFD-dJSy7qD",
        "colab_type": "code",
        "colab": {
          "base_uri": "https://localhost:8080/",
          "height": 289
        },
        "outputId": "e75cc116-b0eb-4026-b17d-4c8f76ecdd3e"
      },
      "source": [
        "probability_model(x_test[:5])"
      ],
      "execution_count": 16,
      "outputs": [
        {
          "output_type": "execute_result",
          "data": {
            "text/plain": [
              "<tf.Tensor: shape=(5, 10), dtype=float32, numpy=\n",
              "array([[1.1705710e-07, 7.6058356e-08, 2.1122547e-05, 9.3223272e-05,\n",
              "        2.2920511e-12, 8.3462373e-07, 1.9958697e-13, 9.9987853e-01,\n",
              "        2.6665978e-07, 5.8387250e-06],\n",
              "       [2.9329152e-08, 3.6228088e-05, 9.9993587e-01, 1.1091690e-05,\n",
              "        8.8246103e-15, 3.7095984e-07, 4.8631949e-07, 3.0004777e-14,\n",
              "        1.5976224e-05, 8.7806854e-12],\n",
              "       [2.2550410e-06, 9.9667692e-01, 7.5296564e-05, 3.6092079e-05,\n",
              "        1.1313955e-04, 1.0904665e-06, 4.2767861e-06, 2.8565661e-03,\n",
              "        2.3346453e-04, 9.7028158e-07],\n",
              "       [9.9998271e-01, 1.1969929e-09, 7.0720321e-06, 1.1972767e-08,\n",
              "        4.7272085e-08, 1.5581026e-06, 2.6133625e-06, 5.7059374e-06,\n",
              "        7.1974817e-09, 3.9191823e-07],\n",
              "       [1.2258460e-05, 9.7180459e-09, 1.6595171e-05, 1.2539255e-07,\n",
              "        9.9585670e-01, 2.1528386e-07, 3.5466446e-06, 2.9665885e-05,\n",
              "        1.2204991e-06, 4.0796548e-03]], dtype=float32)>"
            ]
          },
          "metadata": {
            "tags": []
          },
          "execution_count": 16
        }
      ]
    },
    {
      "cell_type": "markdown",
      "metadata": {
        "id": "ZF9ZCRHezNw3",
        "colab_type": "text"
      },
      "source": [
        "# Quickstart for experts"
      ]
    },
    {
      "cell_type": "markdown",
      "metadata": {
        "id": "ISr0uMT9zRFi",
        "colab_type": "text"
      },
      "source": [
        "Import Tensorflow to your program."
      ]
    },
    {
      "cell_type": "code",
      "metadata": {
        "id": "G43zfCgVzUxK",
        "colab_type": "code",
        "colab": {}
      },
      "source": [
        "import tensorflow as tf\n",
        "\n",
        "from tensorflow.keras.layers import Dense, Flatten, Conv2D\n",
        "from tensorflow.keras import Model"
      ],
      "execution_count": 17,
      "outputs": []
    },
    {
      "cell_type": "markdown",
      "metadata": {
        "id": "eCU4BVmTzf2t",
        "colab_type": "text"
      },
      "source": [
        "Load and prepare the MNIST dataset."
      ]
    },
    {
      "cell_type": "code",
      "metadata": {
        "id": "BbVaStTYzfWF",
        "colab_type": "code",
        "colab": {}
      },
      "source": [
        "mnist = tf.keras.datasets.mnist\n",
        "\n",
        "(x_train, y_train), (x_test, y_test) = mnist.load_data()\n",
        "x_train, x_test = x_train / 255.0, x_test / 255.0\n",
        "\n",
        "# Add a channels dimension\n",
        "x_train = x_train[..., tf.newaxis].astype(\"float32\")\n",
        "x_test = x_test[..., tf.newaxis].astype(\"float32\")"
      ],
      "execution_count": 18,
      "outputs": []
    },
    {
      "cell_type": "markdown",
      "metadata": {
        "id": "i5su7CD2zr1H",
        "colab_type": "text"
      },
      "source": [
        "Use `tf.data` to batch and shuffle the dataset."
      ]
    },
    {
      "cell_type": "code",
      "metadata": {
        "id": "0KjB51G-z4YS",
        "colab_type": "code",
        "colab": {}
      },
      "source": [
        "train_ds = tf.data.Dataset.from_tensor_slices(\n",
        "    (x_train, y_train)).shuffle(10000).batch(32)\n",
        "\n",
        "test_ds = tf.data.Dataset.from_tensor_slices((x_test, y_test)).batch(32)"
      ],
      "execution_count": 20,
      "outputs": []
    },
    {
      "cell_type": "markdown",
      "metadata": {
        "id": "B1dWNsk50Ba8",
        "colab_type": "text"
      },
      "source": [
        "Build the tf.keras model using the Keras model subclassing API."
      ]
    },
    {
      "cell_type": "code",
      "metadata": {
        "id": "uE-U5Zb30JqC",
        "colab_type": "code",
        "colab": {}
      },
      "source": [
        "class MyModel(Model):\n",
        "  \n",
        "  def __init__(self):\n",
        "    super(MyModel, self).__init__()\n",
        "    self.conv1 = Conv2D(32, 3, activation='relu')\n",
        "    self.flatten = Flatten()\n",
        "    self.d1 = Dense(128, activation='relu')\n",
        "    self.d2 = Dense(10)\n",
        "\n",
        "  def call(self, x):\n",
        "    x = self.conv1(x)\n",
        "    x = self.flatten(x)\n",
        "    x = self.d1(x)\n",
        "    return self.d2(x)"
      ],
      "execution_count": 21,
      "outputs": []
    },
    {
      "cell_type": "code",
      "metadata": {
        "id": "ISLL4qnB0cwn",
        "colab_type": "code",
        "colab": {}
      },
      "source": [
        "# Create an instance of the model\n",
        "model = MyModel()"
      ],
      "execution_count": 22,
      "outputs": []
    },
    {
      "cell_type": "markdown",
      "metadata": {
        "id": "2Ul_T2nn0fNx",
        "colab_type": "text"
      },
      "source": [
        "Choose an optimiser and loss function for training."
      ]
    },
    {
      "cell_type": "code",
      "metadata": {
        "id": "fBB3LtGW0iTu",
        "colab_type": "code",
        "colab": {}
      },
      "source": [
        "loss_object = tf.keras.losses.SparseCategoricalCrossentropy(from_logits=True)\n",
        "optimizer = tf.keras.optimizers.Adam()"
      ],
      "execution_count": 23,
      "outputs": []
    },
    {
      "cell_type": "markdown",
      "metadata": {
        "id": "lznBVBPu0nwE",
        "colab_type": "text"
      },
      "source": [
        "Select metrics to measure the loss and the accuracy of the model. These metrics accumulate the values over epochs and then print the overall result."
      ]
    },
    {
      "cell_type": "code",
      "metadata": {
        "id": "X5a2o5QS0sq6",
        "colab_type": "code",
        "colab": {}
      },
      "source": [
        "train_loss = tf.keras.metrics.Mean(name='train_loss')\n",
        "train_accuracy = tf.keras.metrics.SparseCategoricalAccuracy(name='train_accuracy')\n",
        "\n",
        "test_loss = tf.keras.metrics.Mean(name='test_loss')\n",
        "test_accuracy = tf.keras.metrics.SparseCategoricalAccuracy(name='test_accuracy')"
      ],
      "execution_count": 25,
      "outputs": []
    },
    {
      "cell_type": "markdown",
      "metadata": {
        "id": "50al14oJ1GIH",
        "colab_type": "text"
      },
      "source": [
        "Use `tf.GradientTape` to train the model."
      ]
    },
    {
      "cell_type": "code",
      "metadata": {
        "id": "fFIQXgXN1LBM",
        "colab_type": "code",
        "colab": {}
      },
      "source": [
        "@tf.function\n",
        "def train_step(images, labels):\n",
        "  with tf.GradientTape() as tape:\n",
        "    # training=True is only needed if there are layers with different\n",
        "    # behavior during training versus inference (e.g. Dropout).\n",
        "    predictions = model(images, training=True)\n",
        "    loss = loss_object(labels, predictions)\n",
        "  gradients = tape.gradient(loss, model.trainable_variables)\n",
        "  optimizer.apply_gradients(zip(gradients, model.trainable_variables))\n",
        "\n",
        "  train_loss(loss)\n",
        "  train_accuracy(labels, predictions)"
      ],
      "execution_count": 26,
      "outputs": []
    },
    {
      "cell_type": "markdown",
      "metadata": {
        "id": "hCjVYgLJ3Kpy",
        "colab_type": "text"
      },
      "source": [
        "Test the model."
      ]
    },
    {
      "cell_type": "code",
      "metadata": {
        "id": "2-ZxAk5k3MYe",
        "colab_type": "code",
        "colab": {}
      },
      "source": [
        "@tf.function\n",
        "def test_step(images, labels):\n",
        "  # training=False is only needed if there are layers with different\n",
        "  # behavior during training versus inference (e.g. Dropout).\n",
        "  predictions = model(images, training=False)\n",
        "  t_loss = loss_object(labels, predictions)\n",
        "\n",
        "  test_loss(t_loss)\n",
        "  test_accuracy(labels, predictions)"
      ],
      "execution_count": 31,
      "outputs": []
    },
    {
      "cell_type": "code",
      "metadata": {
        "id": "OWr6qJ6R1qJP",
        "colab_type": "code",
        "colab": {}
      },
      "source": [
        "EPOCHS = 5"
      ],
      "execution_count": 32,
      "outputs": []
    },
    {
      "cell_type": "code",
      "metadata": {
        "id": "G8XEDumE1rh0",
        "colab_type": "code",
        "colab": {
          "base_uri": "https://localhost:8080/",
          "height": 102
        },
        "outputId": "2d1ff416-42a3-461a-ed86-d5981199855c"
      },
      "source": [
        "for epoch in range(EPOCHS):\n",
        "  # Reset the metrics at the start of the next epoch\n",
        "  train_loss.reset_states()\n",
        "  train_accuracy.reset_states()\n",
        "  test_loss.reset_states()\n",
        "  test_accuracy.reset_states()\n",
        "\n",
        "  for images, labels in train_ds:\n",
        "    train_step(images, labels)\n",
        "\n",
        "  for test_images, test_labels in test_ds:\n",
        "    test_step(test_images, test_labels)\n",
        "\n",
        "  template = 'Epoch {}, Loss: {}, Accuracy: {}, Test Loss: {}, Test Accuracy: {}'\n",
        "  print(template.format(epoch + 1,\n",
        "                        train_loss.result(),\n",
        "                        train_accuracy.result() * 100,\n",
        "                        test_loss.result(),\n",
        "                        test_accuracy.result() * 100))"
      ],
      "execution_count": 33,
      "outputs": [
        {
          "output_type": "stream",
          "text": [
            "Epoch 1, Loss: 0.03707418590784073, Accuracy: 98.84166717529297, Test Loss: 0.055687546730041504, Test Accuracy: 98.18000030517578\n",
            "Epoch 2, Loss: 0.018723540008068085, Accuracy: 99.37333679199219, Test Loss: 0.05161529779434204, Test Accuracy: 98.44999694824219\n",
            "Epoch 3, Loss: 0.012314803898334503, Accuracy: 99.58000183105469, Test Loss: 0.05714106187224388, Test Accuracy: 98.4000015258789\n",
            "Epoch 4, Loss: 0.007780862972140312, Accuracy: 99.73333740234375, Test Loss: 0.06765719503164291, Test Accuracy: 98.27999877929688\n",
            "Epoch 5, Loss: 0.00678337411954999, Accuracy: 99.7733383178711, Test Loss: 0.07473964244127274, Test Accuracy: 98.25\n"
          ],
          "name": "stdout"
        }
      ]
    },
    {
      "cell_type": "code",
      "metadata": {
        "id": "6vkDBGSq1-wO",
        "colab_type": "code",
        "colab": {}
      },
      "source": [
        ""
      ],
      "execution_count": null,
      "outputs": []
    }
  ]
}